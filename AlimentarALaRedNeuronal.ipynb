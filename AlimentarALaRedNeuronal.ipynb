{
  "nbformat": 4,
  "nbformat_minor": 0,
  "metadata": {
    "colab": {
      "name": "AlimentarALaRedNeuronal.ipynb",
      "provenance": [],
      "collapsed_sections": [],
      "include_colab_link": true
    },
    "kernelspec": {
      "name": "python3",
      "display_name": "Python 3"
    }
  },
  "cells": [
    {
      "cell_type": "markdown",
      "metadata": {
        "id": "view-in-github",
        "colab_type": "text"
      },
      "source": [
        "<a href=\"https://colab.research.google.com/github/Uriel825/Experimentos-Pytorch/blob/master/AlimentarALaRedNeuronal.ipynb\" target=\"_parent\"><img src=\"https://colab.research.google.com/assets/colab-badge.svg\" alt=\"Open In Colab\"/></a>"
      ]
    },
    {
      "cell_type": "code",
      "metadata": {
        "id": "2W8BMxilskN7",
        "colab_type": "code",
        "colab": {}
      },
      "source": [
        ""
      ],
      "execution_count": 0,
      "outputs": []
    },
    {
      "cell_type": "code",
      "metadata": {
        "id": "UMBkN0zVmnle",
        "colab_type": "code",
        "colab": {}
      },
      "source": [
        "import torch\n",
        "import torch.nn as nn\n",
        "import torch.nn.functional as F #capas sin parametros"
      ],
      "execution_count": 0,
      "outputs": []
    },
    {
      "cell_type": "code",
      "metadata": {
        "id": "QetGUUNts4qV",
        "colab_type": "code",
        "colab": {}
      },
      "source": [
        ""
      ],
      "execution_count": 0,
      "outputs": []
    },
    {
      "cell_type": "code",
      "metadata": {
        "id": "JqkNwuoinFdN",
        "colab_type": "code",
        "colab": {}
      },
      "source": [
        "class Net(nn.Module): #Necesita dos atributos init(tiene parametros) y forward(puede tener o no)\n",
        "  def __init__(self, num_channels): \n",
        "    super(Net,self)._init_() #INicializar la clase padre\n",
        "    \n",
        "    #Capas convulusionales\n",
        "    self.num_channels = num_channels\n",
        "    self.conv1 = nn.Conv2d(3, self.num_channels, kernel_size=3, stride=1, padding=1 )  #El primer numeor es los canales que recibe \n",
        "    self.conv2 = nn.Conv2d(self.num_channels, self.num_channels*2, kernel_size=3, stride=1, padding=1 )\n",
        "    self.conv3 = nn.Conv2d(self.num_channels*2, self.num_channels*4, kernel_size=3, stride=1, padding=1 ) #aumenta como los bits \n",
        "    #Capas lineales\n",
        "    \n",
        "    self.fc1 = nn.Linear(self.num_channels*4*8*8, self.num_channels*4) \n",
        "    self.fc2 = nn.Linear(self.num_channels*4,6) #6 por lo daatos ya que son numeros con una sola mano desde  0 al 5 \n",
        "\n",
        "    def fordward(self,x):\n",
        "      #Empieza 3x64x64\n",
        "      x=self.conv1(x) #num_channels X 64 X 64\n",
        "      x=F.relu(F.max_pool2d(x, 2)) #num_channels x 32 x 32\n",
        "      x=self.conv2(x) #num_channels*2 x 32 X 32 \n",
        "      x=F.relu(F.max_pool2d(x, 2)) # num_channels* X 16 X 16 \n",
        "      x=self.conv3(x) #num_channels*4 x16 x16\n",
        "      x=F.relu(F.max_pool2d(x,2)) #num_channels*4 x8 x8\n",
        "     \n",
        "     #Flatten\n",
        "      x = x.view(-1, self.num_channels*4*8*8)\n",
        "     \n",
        "     #fully conected\n",
        "      x = self.fc1\n",
        "      x = F.relu(x)\n",
        "      x = self.fc2\n",
        "    \n",
        "    #log_softmax\n",
        "      x = F.log_softmax(x,dim=1)\n",
        "\n",
        "    return x\n"
      ],
      "execution_count": 0,
      "outputs": []
    },
    {
      "cell_type": "code",
      "metadata": {
        "id": "-iRzKr4us-Cd",
        "colab_type": "code",
        "outputId": "a05376b7-c7b2-461e-dce8-e9ecd7bf32e7",
        "colab": {
          "base_uri": "https://localhost:8080/",
          "height": 127
        }
      },
      "source": [
        "from google.colab import drive\n",
        "drive.mount('/gdrive')"
      ],
      "execution_count": 0,
      "outputs": [
        {
          "output_type": "stream",
          "text": [
            "Go to this URL in a browser: https://accounts.google.com/o/oauth2/auth?client_id=947318989803-6bn6qk8qdgf4n4g3pfee6491hc0brc4i.apps.googleusercontent.com&redirect_uri=urn%3Aietf%3Awg%3Aoauth%3A2.0%3Aoob&scope=email%20https%3A%2F%2Fwww.googleapis.com%2Fauth%2Fdocs.test%20https%3A%2F%2Fwww.googleapis.com%2Fauth%2Fdrive%20https%3A%2F%2Fwww.googleapis.com%2Fauth%2Fdrive.photos.readonly%20https%3A%2F%2Fwww.googleapis.com%2Fauth%2Fpeopleapi.readonly&response_type=code\n",
            "\n",
            "Enter your authorization code:\n",
            "··········\n",
            "Mounted at /gdrive\n"
          ],
          "name": "stdout"
        }
      ]
    },
    {
      "cell_type": "code",
      "metadata": {
        "id": "OuLvy42ftQq6",
        "colab_type": "code",
        "outputId": "29dd2aa8-8d4b-4b51-e887-b29012cb92fc",
        "colab": {
          "base_uri": "https://localhost:8080/",
          "height": 35
        }
      },
      "source": [
        "!ls '/gdrive/My Drive/dl-pytorch/datasets/64x64_SIGNS'\n"
      ],
      "execution_count": 0,
      "outputs": [
        {
          "output_type": "stream",
          "text": [
            "test_signs  train_signs  val_signs\n"
          ],
          "name": "stdout"
        }
      ]
    },
    {
      "cell_type": "code",
      "metadata": {
        "id": "Sx9BlIggtoff",
        "colab_type": "code",
        "colab": {}
      },
      "source": [
        "import sys\n",
        "sys.path.append('/gdrive/My Drive/dl-pytorch/')"
      ],
      "execution_count": 0,
      "outputs": []
    },
    {
      "cell_type": "code",
      "metadata": {
        "id": "5im-snyIt1zw",
        "colab_type": "code",
        "colab": {}
      },
      "source": [
        "from plot_helpers import  imshow"
      ],
      "execution_count": 0,
      "outputs": []
    },
    {
      "cell_type": "code",
      "metadata": {
        "id": "6_naBobLt9lP",
        "colab_type": "code",
        "colab": {}
      },
      "source": [
        ""
      ],
      "execution_count": 0,
      "outputs": []
    },
    {
      "cell_type": "markdown",
      "metadata": {
        "id": "rP8Xv73Et-93",
        "colab_type": "text"
      },
      "source": [
        "Igual que con la ed los datos son una clase de python con dos parametros "
      ]
    },
    {
      "cell_type": "code",
      "metadata": {
        "colab_type": "code",
        "id": "6GF2AEat0JEw",
        "colab": {}
      },
      "source": [
        "import os\n",
        "from PIL import Image\n",
        "from torch.utils.data import Dataset, DataLoader\n",
        "\n",
        "class SIGNSDataset(Dataset):\n",
        "  def __init__ (self, base_dir, split=\"train\", transform=None): #PARA TODO LO QUE LLEVE GUION BAJO SON DOS GUIONES BAJOS >:v\n",
        "    path = os.path.join(base_dir, \"{}_signs\".format(split))\n",
        "    files = os.listdir (path)\n",
        "    self.filenames = [os.path.join(path,f) for f in files if f.endswith(\".jpg\")]\n",
        "    self.targets = [int(f[0]) for f in files]\n",
        "    self.transform = transform\n",
        "\n",
        "  def __len__(self):\n",
        "    return len(self.filenames)\n",
        "\n",
        "  def __getitem__(self,idx):\n",
        "    image = Image.open(self.filenames[idx])\n",
        "    if self.transform:\n",
        "      image = self.transform(image)\n",
        "    return image, self.targets[idx]\n"
      ],
      "execution_count": 0,
      "outputs": []
    },
    {
      "cell_type": "code",
      "metadata": {
        "id": "XfOoKd7VwlC2",
        "colab_type": "code",
        "colab": {}
      },
      "source": [
        "signs = SIGNSDataset('/gdrive/My Drive/dl-pytorch/datasets/64x64_SIGNS', split=\"train\")"
      ],
      "execution_count": 0,
      "outputs": []
    },
    {
      "cell_type": "code",
      "metadata": {
        "id": "vTjMWROX5zb5",
        "colab_type": "code",
        "outputId": "14f8637a-e097-447b-d8f0-c55a14b5fac7",
        "colab": {
          "base_uri": "https://localhost:8080/",
          "height": 35
        }
      },
      "source": [
        "len(signs)"
      ],
      "execution_count": 0,
      "outputs": [
        {
          "output_type": "execute_result",
          "data": {
            "text/plain": [
              "864"
            ]
          },
          "metadata": {
            "tags": []
          },
          "execution_count": 103
        }
      ]
    }
  ]
}